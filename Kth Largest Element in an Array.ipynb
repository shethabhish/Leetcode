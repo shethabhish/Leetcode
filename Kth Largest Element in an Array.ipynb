{
 "cells": [
  {
   "cell_type": "code",
   "execution_count": 1,
   "metadata": {},
   "outputs": [],
   "source": [
    "import random\n",
    "def findkthLargest(nums,k):\n",
    "    def select(start,end,ksmallest):\n",
    "        if start == end:\n",
    "            return nums[start]\n",
    "        pivotindex = random.randint(start,end)\n",
    "        pivotindex = partition(start,end,pivotindex)\n",
    "        if ksmallest == pivotindex:\n",
    "            return nums[ksmallest]\n",
    "        elif ksmallest < pivotindex:\n",
    "            return select(start,pivotindex-1,ksmallest)\n",
    "        else:\n",
    "            return select(pivotindex+1,end,ksmallest)\n",
    "    def partition(start,end,pivotindex):\n",
    "        pivot = nums[pivotindex]\n",
    "        nums[pivotindex],nums[end] = nums[end],nums[pivotindex]\n",
    "        left = start\n",
    "        for i in range(start,end):\n",
    "            if nums[i] < pivot:\n",
    "                nums[left],nums[i] = nums[i],nums[left]\n",
    "                left += 1\n",
    "        nums[end],nums[left] = nums[left],nums[end]\n",
    "        return left\n",
    "    return select(0,len(nums)-1,len(nums)-k)"
   ]
  },
  {
   "cell_type": "code",
   "execution_count": 2,
   "metadata": {},
   "outputs": [
    {
     "data": {
      "text/plain": [
       "5"
      ]
     },
     "execution_count": 2,
     "metadata": {},
     "output_type": "execute_result"
    }
   ],
   "source": [
    "findkthLargest( [3,2,1,5,6,4],2)"
   ]
  }
 ],
 "metadata": {
  "kernelspec": {
   "display_name": "Python 3",
   "language": "python",
   "name": "python3"
  },
  "language_info": {
   "codemirror_mode": {
    "name": "ipython",
    "version": 3
   },
   "file_extension": ".py",
   "mimetype": "text/x-python",
   "name": "python",
   "nbconvert_exporter": "python",
   "pygments_lexer": "ipython3",
   "version": "3.7.6"
  }
 },
 "nbformat": 4,
 "nbformat_minor": 4
}
