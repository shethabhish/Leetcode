{
 "cells": [
  {
   "cell_type": "code",
   "execution_count": 1,
   "metadata": {},
   "outputs": [],
   "source": [
    "def subsets_duplicate(arr):\n",
    "    subset = []\n",
    "    subset.append([])\n",
    "    start,end = 0,0\n",
    "    for i in range(len(arr)):\n",
    "        start = 0\n",
    "        if i >0 and arr[i] == arr[i-1]:\n",
    "            start = end +1\n",
    "        end = len(subset)-1\n",
    "        for j in range(start,end+1):\n",
    "            sub = list(subset[j])\n",
    "            sub.append(arr[i])\n",
    "            subset.append(sub)\n",
    "    return subset"
   ]
  },
  {
   "cell_type": "code",
   "execution_count": 2,
   "metadata": {},
   "outputs": [
    {
     "data": {
      "text/plain": [
       "[[],\n",
       " [1],\n",
       " [5],\n",
       " [1, 5],\n",
       " [3],\n",
       " [1, 3],\n",
       " [5, 3],\n",
       " [1, 5, 3],\n",
       " [3, 3],\n",
       " [1, 3, 3],\n",
       " [5, 3, 3],\n",
       " [1, 5, 3, 3]]"
      ]
     },
     "execution_count": 2,
     "metadata": {},
     "output_type": "execute_result"
    }
   ],
   "source": [
    "subsets_duplicate([1,5,3,3])\n",
    "# Time Complexity O(N*2^N)\n",
    "# Space Complexity O(N*2^N)"
   ]
  }
 ],
 "metadata": {
  "kernelspec": {
   "display_name": "Python 3",
   "language": "python",
   "name": "python3"
  },
  "language_info": {
   "codemirror_mode": {
    "name": "ipython",
    "version": 3
   },
   "file_extension": ".py",
   "mimetype": "text/x-python",
   "name": "python",
   "nbconvert_exporter": "python",
   "pygments_lexer": "ipython3",
   "version": "3.7.6"
  }
 },
 "nbformat": 4,
 "nbformat_minor": 4
}
