{
 "cells": [
  {
   "cell_type": "code",
   "execution_count": 1,
   "metadata": {},
   "outputs": [],
   "source": [
    "class Node:\n",
    "    def __init__(self,val):\n",
    "        self.val = val\n",
    "        self.next = None\n",
    "    def print_list(self):\n",
    "        temp = self\n",
    "        while temp:\n",
    "            print(temp.val, end = \" \")\n",
    "            temp = temp.next"
   ]
  },
  {
   "cell_type": "code",
   "execution_count": 2,
   "metadata": {},
   "outputs": [],
   "source": [
    "def rotate(head, rotations):\n",
    "    if head is None or head.next is None or rotations <=0:\n",
    "        return head\n",
    "    last_node = head\n",
    "    list_length = 1\n",
    "    while last_node.next:\n",
    "        last_node = last_node.next\n",
    "        list_length += 1\n",
    "    \n",
    "    last_node.next = head\n",
    "    rotations %= list_length\n",
    "    skip = list_length - rotations\n",
    "    last_node_rotatedlist = head\n",
    "    for i in range(skip-1):\n",
    "        last_node_rotatedlist = last_node_rotatedlist.next\n",
    "    head = last_node_rotatedlist.next\n",
    "    last_node_rotatedlist.next = None\n",
    "    return head"
   ]
  },
  {
   "cell_type": "code",
   "execution_count": 3,
   "metadata": {},
   "outputs": [],
   "source": [
    "head = Node(1)\n",
    "head.next = Node(2)\n",
    "head.next.next = Node(3)\n",
    "head.next.next.next = Node(4)\n",
    "head.next.next.next.next = Node(5)\n",
    "head.next.next.next.next.next = Node(6)"
   ]
  },
  {
   "cell_type": "code",
   "execution_count": 4,
   "metadata": {},
   "outputs": [
    {
     "name": "stdout",
     "output_type": "stream",
     "text": [
      "4 5 6 1 2 3 "
     ]
    }
   ],
   "source": [
    "rotate(head,3).print_list()"
   ]
  }
 ],
 "metadata": {
  "kernelspec": {
   "display_name": "Python 3",
   "language": "python",
   "name": "python3"
  },
  "language_info": {
   "codemirror_mode": {
    "name": "ipython",
    "version": 3
   },
   "file_extension": ".py",
   "mimetype": "text/x-python",
   "name": "python",
   "nbconvert_exporter": "python",
   "pygments_lexer": "ipython3",
   "version": "3.7.6"
  }
 },
 "nbformat": 4,
 "nbformat_minor": 4
}
