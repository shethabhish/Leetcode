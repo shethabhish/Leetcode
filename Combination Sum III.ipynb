{
 "cells": [
  {
   "cell_type": "code",
   "execution_count": 1,
   "metadata": {},
   "outputs": [],
   "source": [
    "def combinationSum3(k, n):\n",
    "    result = []\n",
    "    def printCombos(arr,buffer,start,index):\n",
    "        if index == len(buffer):\n",
    "            if sum(buffer) == n:\n",
    "                temp = []\n",
    "                for i in buffer:\n",
    "                    temp.append(i)\n",
    "                result.append(temp)\n",
    "            return\n",
    "        for i in range(start,len(arr)):\n",
    "            buffer[index] = arr[i]\n",
    "            printCombos(arr,buffer,i+1,index+1)\n",
    "    arr = [i for i in range(1,10)]\n",
    "    buffer = [0]*k\n",
    "    printCombos(arr,buffer,0,0)\n",
    "    return result"
   ]
  },
  {
   "cell_type": "code",
   "execution_count": 2,
   "metadata": {},
   "outputs": [
    {
     "data": {
      "text/plain": [
       "[[1, 2, 6], [1, 3, 5], [2, 3, 4]]"
      ]
     },
     "execution_count": 2,
     "metadata": {},
     "output_type": "execute_result"
    }
   ],
   "source": [
    "combinationSum3(3,9)"
   ]
  }
 ],
 "metadata": {
  "kernelspec": {
   "display_name": "Python 3",
   "language": "python",
   "name": "python3"
  },
  "language_info": {
   "codemirror_mode": {
    "name": "ipython",
    "version": 3
   },
   "file_extension": ".py",
   "mimetype": "text/x-python",
   "name": "python",
   "nbconvert_exporter": "python",
   "pygments_lexer": "ipython3",
   "version": "3.7.6"
  }
 },
 "nbformat": 4,
 "nbformat_minor": 4
}
