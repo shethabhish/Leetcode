{
 "cells": [
  {
   "cell_type": "code",
   "execution_count": 1,
   "metadata": {},
   "outputs": [],
   "source": [
    "def findMaximumXOR(nums):\n",
    "    L = len(bin(max(nums)))-2\n",
    "    nums = [[(x >> i) & 1 for i in range(L)][::-1] for x in nums]\n",
    "    max_xor = 0\n",
    "    trie = {}\n",
    "    for num in nums:\n",
    "        node = trie\n",
    "        xor_node = trie\n",
    "        curr_xor = 0\n",
    "        for bit in num:\n",
    "            if bit not in node:\n",
    "                node[bit] = {}\n",
    "            node = node[bit]\n",
    "            toggled_bit = 1- bit\n",
    "            if toggled_bit in xor_node:\n",
    "                curr_xor = (curr_xor << 1) | 1\n",
    "                xor_node = xor_node[toggled_bit]\n",
    "            else:\n",
    "                curr_xor = curr_xor << 1\n",
    "                xor_node = xor_node[bit]\n",
    "        max_xor = max(max_xor,curr_xor)\n",
    "    return max_xor"
   ]
  },
  {
   "cell_type": "code",
   "execution_count": 2,
   "metadata": {},
   "outputs": [
    {
     "data": {
      "text/plain": [
       "28"
      ]
     },
     "execution_count": 2,
     "metadata": {},
     "output_type": "execute_result"
    }
   ],
   "source": [
    "findMaximumXOR([3,10,5,25,2,8])"
   ]
  }
 ],
 "metadata": {
  "kernelspec": {
   "display_name": "Python 3",
   "language": "python",
   "name": "python3"
  },
  "language_info": {
   "codemirror_mode": {
    "name": "ipython",
    "version": 3
   },
   "file_extension": ".py",
   "mimetype": "text/x-python",
   "name": "python",
   "nbconvert_exporter": "python",
   "pygments_lexer": "ipython3",
   "version": "3.7.6"
  }
 },
 "nbformat": 4,
 "nbformat_minor": 4
}
