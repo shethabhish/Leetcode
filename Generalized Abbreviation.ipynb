{
 "cells": [
  {
   "cell_type": "code",
   "execution_count": 1,
   "metadata": {},
   "outputs": [],
   "source": [
    "def generateAbbreviations(word):\n",
    "    result = []\n",
    "    def dfs(word,temp):\n",
    "        if not word:\n",
    "            result.append(temp)\n",
    "            return\n",
    "        for i in range(len(word)+1):\n",
    "            if i == 0:\n",
    "                dfs(word[1:],temp+word[i])\n",
    "            else:\n",
    "                dfs(word[i+1:],temp+str(i)+word[i:i+1])\n",
    "    dfs(word,'')\n",
    "    return result"
   ]
  },
  {
   "cell_type": "code",
   "execution_count": 2,
   "metadata": {},
   "outputs": [
    {
     "data": {
      "text/plain": [
       "['word',\n",
       " 'wor1',\n",
       " 'wo1d',\n",
       " 'wo2',\n",
       " 'w1rd',\n",
       " 'w1r1',\n",
       " 'w2d',\n",
       " 'w3',\n",
       " '1ord',\n",
       " '1or1',\n",
       " '1o1d',\n",
       " '1o2',\n",
       " '2rd',\n",
       " '2r1',\n",
       " '3d',\n",
       " '4']"
      ]
     },
     "execution_count": 2,
     "metadata": {},
     "output_type": "execute_result"
    }
   ],
   "source": [
    "generateAbbreviations('word')"
   ]
  }
 ],
 "metadata": {
  "kernelspec": {
   "display_name": "Python 3",
   "language": "python",
   "name": "python3"
  },
  "language_info": {
   "codemirror_mode": {
    "name": "ipython",
    "version": 3
   },
   "file_extension": ".py",
   "mimetype": "text/x-python",
   "name": "python",
   "nbconvert_exporter": "python",
   "pygments_lexer": "ipython3",
   "version": "3.7.6"
  }
 },
 "nbformat": 4,
 "nbformat_minor": 4
}
