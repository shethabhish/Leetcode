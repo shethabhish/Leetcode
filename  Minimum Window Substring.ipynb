{
 "cells": [
  {
   "cell_type": "code",
   "execution_count": 1,
   "metadata": {},
   "outputs": [],
   "source": [
    "def minWindow(s,pattern):\n",
    "    windowstart,match,substr_start,min_length,pattern_freq = 0,0,0,len(s)+1,{}\n",
    "    for i in pattern:\n",
    "        if i not in pattern_freq:\n",
    "            pattern_freq[i] = 0\n",
    "        pattern_freq[i] += 1\n",
    "    for windowend in range(len(s)):\n",
    "        right = s[windowend]\n",
    "        if right in pattern_freq:\n",
    "            pattern_freq[right] -= 1\n",
    "            if pattern_freq[right] >= 0:\n",
    "                match += 1\n",
    "        while match == len(pattern):\n",
    "            if min_length > windowend - windowstart + 1:\n",
    "                min_length = windowend - windowstart + 1\n",
    "                substr_start = windowstart\n",
    "            left = s[windowstart]\n",
    "            windowstart += 1\n",
    "            if left in pattern_freq:\n",
    "                if pattern_freq[left] == 0:\n",
    "                    match -= 1\n",
    "                pattern_freq[left] += 1\n",
    "    if min_length > len(s):\n",
    "        return \"\"\n",
    "    return s[substr_start:substr_start+min_length]"
   ]
  },
  {
   "cell_type": "code",
   "execution_count": 2,
   "metadata": {},
   "outputs": [
    {
     "data": {
      "text/plain": [
       "'BANC'"
      ]
     },
     "execution_count": 2,
     "metadata": {},
     "output_type": "execute_result"
    }
   ],
   "source": [
    "minWindow(\"ADOBECODEBANC\",\"ABC\")"
   ]
  }
 ],
 "metadata": {
  "kernelspec": {
   "display_name": "Python 3",
   "language": "python",
   "name": "python3"
  },
  "language_info": {
   "codemirror_mode": {
    "name": "ipython",
    "version": 3
   },
   "file_extension": ".py",
   "mimetype": "text/x-python",
   "name": "python",
   "nbconvert_exporter": "python",
   "pygments_lexer": "ipython3",
   "version": "3.7.6"
  }
 },
 "nbformat": 4,
 "nbformat_minor": 4
}
