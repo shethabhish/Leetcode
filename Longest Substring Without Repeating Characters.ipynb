{
 "cells": [
  {
   "cell_type": "code",
   "execution_count": 1,
   "metadata": {},
   "outputs": [],
   "source": [
    "def longest_substring(s):\n",
    "    charfreq = {}\n",
    "    windowstart,maxlength = 0,0\n",
    "    for windowend in range(len(s)):\n",
    "        if s[windowend] in charfreq:\n",
    "            windowstart = max(windowstart,charfreq[s[windowstart]]+1)\n",
    "        charfreq[s[windowend]] = windowend\n",
    "        maxlength = max(maxlength,windowend-windowstart+1)\n",
    "    return maxlength"
   ]
  },
  {
   "cell_type": "code",
   "execution_count": 2,
   "metadata": {
    "scrolled": true
   },
   "outputs": [
    {
     "data": {
      "text/plain": [
       "3"
      ]
     },
     "execution_count": 2,
     "metadata": {},
     "output_type": "execute_result"
    }
   ],
   "source": [
    "longest_substring(\"abcabcbb\")\n",
    "#Time Complexity O(N)\n",
    "#Space Complexity O(N)"
   ]
  }
 ],
 "metadata": {
  "kernelspec": {
   "display_name": "Python 3",
   "language": "python",
   "name": "python3"
  },
  "language_info": {
   "codemirror_mode": {
    "name": "ipython",
    "version": 3
   },
   "file_extension": ".py",
   "mimetype": "text/x-python",
   "name": "python",
   "nbconvert_exporter": "python",
   "pygments_lexer": "ipython3",
   "version": "3.7.6"
  }
 },
 "nbformat": 4,
 "nbformat_minor": 4
}
