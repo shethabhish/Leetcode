{
 "cells": [
  {
   "cell_type": "code",
   "execution_count": 1,
   "metadata": {},
   "outputs": [],
   "source": [
    "def countComponents(n, edges):\n",
    "        graph = {i:[] for i in range(n)}\n",
    "        for i,j in edges:\n",
    "            graph[i].append(j)\n",
    "            graph[j].append(i)\n",
    "        res = 0\n",
    "        for i in range(n):\n",
    "            queue = [i]\n",
    "            res += 1 if i in graph else 0\n",
    "            for j in queue:\n",
    "                if j in graph:\n",
    "                    queue += graph[j]\n",
    "                    del graph[j]\n",
    "        return res"
   ]
  },
  {
   "cell_type": "code",
   "execution_count": 2,
   "metadata": {},
   "outputs": [
    {
     "data": {
      "text/plain": [
       "2"
      ]
     },
     "execution_count": 2,
     "metadata": {},
     "output_type": "execute_result"
    }
   ],
   "source": [
    "countComponents(5, [[0, 1], [1, 2], [3, 4]])"
   ]
  }
 ],
 "metadata": {
  "kernelspec": {
   "display_name": "Python 3",
   "language": "python",
   "name": "python3"
  },
  "language_info": {
   "codemirror_mode": {
    "name": "ipython",
    "version": 3
   },
   "file_extension": ".py",
   "mimetype": "text/x-python",
   "name": "python",
   "nbconvert_exporter": "python",
   "pygments_lexer": "ipython3",
   "version": "3.7.6"
  }
 },
 "nbformat": 4,
 "nbformat_minor": 4
}
