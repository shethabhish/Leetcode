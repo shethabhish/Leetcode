{
 "cells": [
  {
   "cell_type": "code",
   "execution_count": 1,
   "metadata": {},
   "outputs": [],
   "source": [
    "def longest_substring_replacement(s,k):\n",
    "    windowstart,max_length,max_repeat,char_freq = 0,0,0,{}\n",
    "    for windowend in range(len(s)):\n",
    "        right = s[windowend]\n",
    "        if right not in char_freq:\n",
    "            char_freq[right] = 0\n",
    "        char_freq[right] += 1\n",
    "        max_repeat = max(max_repeat, char_freq[right])\n",
    "        if (windowend - windowstart + 1 - max_repeat) > k:\n",
    "            left = s[windowstart]\n",
    "            char_freq[left] -= 1\n",
    "            windowstart += 1\n",
    "        max_length = max(max_length,windowend - windowstart + 1)\n",
    "    return max_length"
   ]
  },
  {
   "cell_type": "code",
   "execution_count": 2,
   "metadata": {},
   "outputs": [
    {
     "data": {
      "text/plain": [
       "5"
      ]
     },
     "execution_count": 2,
     "metadata": {},
     "output_type": "execute_result"
    }
   ],
   "source": [
    "longest_substring_replacement(\"aabccbb\",2)"
   ]
  }
 ],
 "metadata": {
  "kernelspec": {
   "display_name": "Python 3",
   "language": "python",
   "name": "python3"
  },
  "language_info": {
   "codemirror_mode": {
    "name": "ipython",
    "version": 3
   },
   "file_extension": ".py",
   "mimetype": "text/x-python",
   "name": "python",
   "nbconvert_exporter": "python",
   "pygments_lexer": "ipython3",
   "version": "3.7.6"
  }
 },
 "nbformat": 4,
 "nbformat_minor": 4
}
