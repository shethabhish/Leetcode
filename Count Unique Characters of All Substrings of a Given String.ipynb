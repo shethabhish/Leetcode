{
 "cells": [
  {
   "cell_type": "code",
   "execution_count": 1,
   "metadata": {},
   "outputs": [],
   "source": [
    "import string\n",
    "def uniqueLetterString(s):\n",
    "    index = {c: [-1,-1] for c in string.ascii_uppercase}\n",
    "    res = 0\n",
    "    for i,c in enumerate(s):\n",
    "        k,j = index[c]\n",
    "        res += (i-j)*(j-k)\n",
    "        index[c] = [j,i]\n",
    "    for c in index:\n",
    "        k,j = index[c]\n",
    "        res += (len(s)-j)*(j-k)\n",
    "    return res%(10**9+7)"
   ]
  },
  {
   "cell_type": "code",
   "execution_count": 2,
   "metadata": {},
   "outputs": [
    {
     "data": {
      "text/plain": [
       "10"
      ]
     },
     "execution_count": 2,
     "metadata": {},
     "output_type": "execute_result"
    }
   ],
   "source": [
    "uniqueLetterString(\"ABC\")"
   ]
  }
 ],
 "metadata": {
  "kernelspec": {
   "display_name": "Python 3",
   "language": "python",
   "name": "python3"
  },
  "language_info": {
   "codemirror_mode": {
    "name": "ipython",
    "version": 3
   },
   "file_extension": ".py",
   "mimetype": "text/x-python",
   "name": "python",
   "nbconvert_exporter": "python",
   "pygments_lexer": "ipython3",
   "version": "3.7.6"
  }
 },
 "nbformat": 4,
 "nbformat_minor": 4
}
