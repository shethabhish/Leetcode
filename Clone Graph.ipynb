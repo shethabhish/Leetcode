{
 "cells": [
  {
   "cell_type": "code",
   "execution_count": 1,
   "metadata": {},
   "outputs": [],
   "source": [
    "class Node:\n",
    "    def __init__(self,val=0,neighbors=None):\n",
    "        self.val = val\n",
    "        self.neighbors = []"
   ]
  },
  {
   "cell_type": "code",
   "execution_count": 2,
   "metadata": {},
   "outputs": [],
   "source": [
    "def cloneGraph(node):\n",
    "    if not node:\n",
    "        return node\n",
    "    visited = {}\n",
    "    queue = deque([node])\n",
    "    visited[node] = Node(node.val,[])\n",
    "    while queue:\n",
    "        current = queue.popleft()\n",
    "        for neighbor in current.neighbors:\n",
    "            if neighbor not in visited:\n",
    "                visited[neighbor] = Node(neighbor.val,[])\n",
    "                queue.append(neighbor)\n",
    "            visited[current].neighbors.append(visited[neighbor])\n",
    "    return visited[node]"
   ]
  }
 ],
 "metadata": {
  "kernelspec": {
   "display_name": "Python 3",
   "language": "python",
   "name": "python3"
  },
  "language_info": {
   "codemirror_mode": {
    "name": "ipython",
    "version": 3
   },
   "file_extension": ".py",
   "mimetype": "text/x-python",
   "name": "python",
   "nbconvert_exporter": "python",
   "pygments_lexer": "ipython3",
   "version": "3.7.6"
  }
 },
 "nbformat": 4,
 "nbformat_minor": 4
}
