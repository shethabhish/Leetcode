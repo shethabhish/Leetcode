{
 "cells": [
  {
   "cell_type": "code",
   "execution_count": 1,
   "metadata": {},
   "outputs": [],
   "source": [
    "class Node:\n",
    "    def __init__(self,val):\n",
    "        self.val = val\n",
    "        self.next = None\n",
    "    def print_list(self):\n",
    "        temp = self\n",
    "        while temp:\n",
    "            print(temp.val, end = \" \")\n",
    "            temp = temp.next"
   ]
  },
  {
   "cell_type": "code",
   "execution_count": 2,
   "metadata": {},
   "outputs": [],
   "source": [
    "def reverse_sublist(head,p,q):\n",
    "    if p == q:\n",
    "        return head\n",
    "    current,prev = head,None\n",
    "    i = 0\n",
    "    while current and i < p-1:\n",
    "        prev = current\n",
    "        current = current.next\n",
    "        i += 1\n",
    "    lastnodefirstpart = prev\n",
    "    lastnodesub = current\n",
    "    i = 0\n",
    "    while current and i < q-p+1:\n",
    "        next = current.next\n",
    "        current.next = prev\n",
    "        prev = current\n",
    "        current = next\n",
    "        i += 1\n",
    "    if lastnodefirstpart:\n",
    "        lastnodefirstpart.next = prev\n",
    "    else:\n",
    "        head = prev\n",
    "    lastnodesub.next = current\n",
    "    return head"
   ]
  },
  {
   "cell_type": "code",
   "execution_count": 3,
   "metadata": {},
   "outputs": [],
   "source": [
    "head = Node(2)\n",
    "head.next = Node(4)\n",
    "head.next.next = Node(6)\n",
    "head.next.next.next = Node(8)\n",
    "head.next.next.next.next = Node(10)\n",
    "head.next.next.next.next.next = Node(12)"
   ]
  },
  {
   "cell_type": "code",
   "execution_count": 4,
   "metadata": {},
   "outputs": [
    {
     "name": "stdout",
     "output_type": "stream",
     "text": [
      "2 8 6 4 10 12 "
     ]
    }
   ],
   "source": [
    "reverse_sublist(head,2,4).print_list()"
   ]
  },
  {
   "cell_type": "code",
   "execution_count": null,
   "metadata": {},
   "outputs": [],
   "source": []
  }
 ],
 "metadata": {
  "kernelspec": {
   "display_name": "Python 3",
   "language": "python",
   "name": "python3"
  },
  "language_info": {
   "codemirror_mode": {
    "name": "ipython",
    "version": 3
   },
   "file_extension": ".py",
   "mimetype": "text/x-python",
   "name": "python",
   "nbconvert_exporter": "python",
   "pygments_lexer": "ipython3",
   "version": "3.7.6"
  }
 },
 "nbformat": 4,
 "nbformat_minor": 4
}
