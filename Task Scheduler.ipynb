{
 "cells": [
  {
   "cell_type": "code",
   "execution_count": 1,
   "metadata": {},
   "outputs": [],
   "source": [
    "from heapq import *\n",
    "def leastInterval(tasks,k):\n",
    "    intervalcount,taskfreq  = 0,{}\n",
    "    for i in tasks:\n",
    "        if i not in taskfreq:\n",
    "            taskfreq[i] = 0\n",
    "        taskfreq[i] += 1\n",
    "    maxheap = []\n",
    "    for ch,fr in taskfreq.items():\n",
    "        heappush(maxheap,(-fr,ch))\n",
    "    while maxheap:\n",
    "        waitlist = []\n",
    "        n = k+1\n",
    "        while n > 0 and maxheap:\n",
    "            intervalcount += 1\n",
    "            freq,char = heappop(maxheap)\n",
    "            if -freq > 1:\n",
    "                waitlist.append((freq+1,char))\n",
    "            n -= 1\n",
    "        for fr,ch in waitlist:\n",
    "            heappush(maxheap,(fr,ch))\n",
    "        if maxheap:\n",
    "            intervalcount += n\n",
    "    return intervalcount"
   ]
  },
  {
   "cell_type": "code",
   "execution_count": 2,
   "metadata": {},
   "outputs": [
    {
     "data": {
      "text/plain": [
       "8"
      ]
     },
     "execution_count": 2,
     "metadata": {},
     "output_type": "execute_result"
    }
   ],
   "source": [
    "leastInterval([\"A\",\"A\",\"A\",\"B\",\"B\",\"B\"],2)"
   ]
  }
 ],
 "metadata": {
  "kernelspec": {
   "display_name": "Python 3",
   "language": "python",
   "name": "python3"
  },
  "language_info": {
   "codemirror_mode": {
    "name": "ipython",
    "version": 3
   },
   "file_extension": ".py",
   "mimetype": "text/x-python",
   "name": "python",
   "nbconvert_exporter": "python",
   "pygments_lexer": "ipython3",
   "version": "3.7.6"
  }
 },
 "nbformat": 4,
 "nbformat_minor": 4
}
