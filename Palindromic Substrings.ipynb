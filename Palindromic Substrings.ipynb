{
 "cells": [
  {
   "cell_type": "code",
   "execution_count": 1,
   "metadata": {},
   "outputs": [],
   "source": [
    "def countSubstrings(s):\n",
    "    if not s:\n",
    "        return 0\n",
    "    n = len(s)\n",
    "    dp = [[False for x in range(n)] for y in range(n)]\n",
    "    count = 0\n",
    "    for i in range(n):\n",
    "        dp[i][i] = True\n",
    "        count += 1\n",
    "    for i in range(n-1):\n",
    "        if s[i] == s[i-1]:\n",
    "            dp[i][i-1] = True\n",
    "            count += 1\n",
    "    for i in range(3,n+1):\n",
    "        for j in range(n-i+1):\n",
    "            k = j+i-1\n",
    "            if dp[j+1][k-1] and s[j] == s[k]:\n",
    "                dp[j][k] = True\n",
    "                count += 1\n",
    "    return count"
   ]
  },
  {
   "cell_type": "code",
   "execution_count": 2,
   "metadata": {},
   "outputs": [
    {
     "data": {
      "text/plain": [
       "6"
      ]
     },
     "execution_count": 2,
     "metadata": {},
     "output_type": "execute_result"
    }
   ],
   "source": [
    "countSubstrings(\"aaa\")"
   ]
  }
 ],
 "metadata": {
  "kernelspec": {
   "display_name": "Python 3",
   "language": "python",
   "name": "python3"
  },
  "language_info": {
   "codemirror_mode": {
    "name": "ipython",
    "version": 3
   },
   "file_extension": ".py",
   "mimetype": "text/x-python",
   "name": "python",
   "nbconvert_exporter": "python",
   "pygments_lexer": "ipython3",
   "version": "3.7.6"
  }
 },
 "nbformat": 4,
 "nbformat_minor": 4
}
