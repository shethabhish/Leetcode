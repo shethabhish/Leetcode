{
 "cells": [
  {
   "cell_type": "code",
   "execution_count": 1,
   "metadata": {},
   "outputs": [],
   "source": [
    "from heapq import *\n",
    "def reorganizeString(S):\n",
    "    freq = {}\n",
    "    for i in S:\n",
    "        if i not in freq:\n",
    "            freq[i] = 0\n",
    "        freq[i] += 1\n",
    "    maxheap = []\n",
    "    for ch,fr in freq.items():\n",
    "        heappush(maxheap,(-fr,ch))\n",
    "    result = \"\"\n",
    "    prevch,prevfr = None,0\n",
    "    while maxheap:\n",
    "        fr,ch = heappop(maxheap)\n",
    "        if prevch and -prevfr > 0:\n",
    "            heappush(maxheap,(prevfr,prevch))\n",
    "        if result and ch == result[-1]:\n",
    "            return \"\"\n",
    "        result += ch\n",
    "        prevch,prevfr = ch,fr+1\n",
    "    return result if len(result) == len(S) else \"\""
   ]
  },
  {
   "cell_type": "code",
   "execution_count": 2,
   "metadata": {},
   "outputs": [
    {
     "data": {
      "text/plain": [
       "'aba'"
      ]
     },
     "execution_count": 2,
     "metadata": {},
     "output_type": "execute_result"
    }
   ],
   "source": [
    "reorganizeString(\"aab\")"
   ]
  }
 ],
 "metadata": {
  "kernelspec": {
   "display_name": "Python 3",
   "language": "python",
   "name": "python3"
  },
  "language_info": {
   "codemirror_mode": {
    "name": "ipython",
    "version": 3
   },
   "file_extension": ".py",
   "mimetype": "text/x-python",
   "name": "python",
   "nbconvert_exporter": "python",
   "pygments_lexer": "ipython3",
   "version": "3.7.6"
  }
 },
 "nbformat": 4,
 "nbformat_minor": 4
}
