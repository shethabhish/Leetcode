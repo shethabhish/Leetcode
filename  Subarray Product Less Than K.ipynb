{
 "cells": [
  {
   "cell_type": "code",
   "execution_count": 1,
   "metadata": {},
   "outputs": [],
   "source": [
    "from collections import deque\n",
    "def find_subarray(arr,target):\n",
    "    result,product,left = [],1,0\n",
    "    for right in range(len(arr)):\n",
    "        product *= arr[right]\n",
    "        while product >= target and left < len(arr):\n",
    "            product /= arr[left]\n",
    "            left += 1\n",
    "        temp_list = deque()\n",
    "        for i in range(right,left-1,-1):\n",
    "            temp_list.append(arr[i])\n",
    "            result.append(list(temp_list))\n",
    "    return result"
   ]
  },
  {
   "cell_type": "code",
   "execution_count": 2,
   "metadata": {},
   "outputs": [
    {
     "data": {
      "text/plain": [
       "[[8], [2], [2, 8], [6], [6, 2], [5], [5, 6]]"
      ]
     },
     "execution_count": 2,
     "metadata": {},
     "output_type": "execute_result"
    }
   ],
   "source": [
    "find_subarray([8, 2, 6, 5],50)"
   ]
  }
 ],
 "metadata": {
  "kernelspec": {
   "display_name": "Python 3",
   "language": "python",
   "name": "python3"
  },
  "language_info": {
   "codemirror_mode": {
    "name": "ipython",
    "version": 3
   },
   "file_extension": ".py",
   "mimetype": "text/x-python",
   "name": "python",
   "nbconvert_exporter": "python",
   "pygments_lexer": "ipython3",
   "version": "3.7.6"
  }
 },
 "nbformat": 4,
 "nbformat_minor": 4
}
