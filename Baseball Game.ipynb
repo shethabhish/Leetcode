{
 "cells": [
  {
   "cell_type": "code",
   "execution_count": 49,
   "metadata": {},
   "outputs": [],
   "source": [
    "def CalPoints(ops):\n",
    "    stack=[]\n",
    "    for i in ops:\n",
    "        if i == \"C\":\n",
    "            stack.pop()\n",
    "        elif i == \"D\":\n",
    "            stack.append(stack[-1]*2)\n",
    "        elif i ==\"+\":\n",
    "            stack.append(stack[-1]+stack[-2])\n",
    "        else:\n",
    "            stack.append(int(i))\n",
    "\n",
    "    return sum(stack)"
   ]
  },
  {
   "cell_type": "code",
   "execution_count": 50,
   "metadata": {},
   "outputs": [
    {
     "data": {
      "text/plain": [
       "30"
      ]
     },
     "execution_count": 50,
     "metadata": {},
     "output_type": "execute_result"
    }
   ],
   "source": [
    "CalPoints([\"5\",\"2\",\"C\",\"D\",\"+\"])"
   ]
  }
 ],
 "metadata": {
  "kernelspec": {
   "display_name": "Python 3",
   "language": "python",
   "name": "python3"
  },
  "language_info": {
   "codemirror_mode": {
    "name": "ipython",
    "version": 3
   },
   "file_extension": ".py",
   "mimetype": "text/x-python",
   "name": "python",
   "nbconvert_exporter": "python",
   "pygments_lexer": "ipython3",
   "version": "3.7.6"
  }
 },
 "nbformat": 4,
 "nbformat_minor": 4
}
