{
 "cells": [
  {
   "cell_type": "code",
   "execution_count": 1,
   "metadata": {},
   "outputs": [],
   "source": [
    "from heapq import *\n",
    "class SlidingWindowMedian:\n",
    "    def __init__(self):\n",
    "        self.maxheap, self.minheap =[], []\n",
    "    \n",
    "    def find_sliding_window_median(self,nums,k):\n",
    "        result = [0.0 for x in range(len(nums)-k+1)]\n",
    "        for i in range(0,len(nums)):\n",
    "            if not self.maxheap or nums[i] <= -self.maxheap[0]:\n",
    "                heappush(self.maxheap,-nums[i])\n",
    "            else:\n",
    "                heappush(self.minheap,nums[i])\n",
    "            self.rebalance()\n",
    "            if i - k + 1 >= 0:\n",
    "                if len(self.maxheap) == len(self.minheap):\n",
    "                    result[i-k+1] = -self.maxheap[0]/2.0 + self.minheap[0]/2.0\n",
    "                else:\n",
    "                    result[i-k+1] = -self.maxheap[0]/1.0\n",
    "                elementtoberemoved = nums[i-k+1]\n",
    "                if elementtoberemoved <= -self.maxheap[0]:\n",
    "                    self.remove(self.maxheap,-elementtoberemoved)\n",
    "                else:\n",
    "                    self.remove(self.minheap,elementtoberemoved)\n",
    "                self.rebalance()\n",
    "        return result\n",
    "    \n",
    "    def remove(self,heap,element):\n",
    "        ind = heap.index(element)\n",
    "        heap[ind] = heap[-1]\n",
    "        del heap[-1]\n",
    "        if ind < len(heap):\n",
    "            heapq._siftup(heap,ind)\n",
    "            heapq._siftdown(heap,0,ind)\n",
    "    \n",
    "    def rebalance(self):\n",
    "        if len(self.maxheap) > len(self.minheap)+1:\n",
    "            heappush(self.minheap,-heappop(self.maxheap))\n",
    "        elif len(self.maxheap) < len(self.minheap):\n",
    "            heappush(self.maxheap, -heappop(self.minheap))"
   ]
  },
  {
   "cell_type": "code",
   "execution_count": 2,
   "metadata": {},
   "outputs": [
    {
     "data": {
      "text/plain": [
       "[1.5, 0.5, 1.0, 4.0]"
      ]
     },
     "execution_count": 2,
     "metadata": {},
     "output_type": "execute_result"
    }
   ],
   "source": [
    "median = SlidingWindowMedian()\n",
    "res = median.find_sliding_window_median([1,2,-1,3,5],2)\n",
    "res"
   ]
  }
 ],
 "metadata": {
  "kernelspec": {
   "display_name": "Python 3",
   "language": "python",
   "name": "python3"
  },
  "language_info": {
   "codemirror_mode": {
    "name": "ipython",
    "version": 3
   },
   "file_extension": ".py",
   "mimetype": "text/x-python",
   "name": "python",
   "nbconvert_exporter": "python",
   "pygments_lexer": "ipython3",
   "version": "3.7.6"
  }
 },
 "nbformat": 4,
 "nbformat_minor": 4
}
