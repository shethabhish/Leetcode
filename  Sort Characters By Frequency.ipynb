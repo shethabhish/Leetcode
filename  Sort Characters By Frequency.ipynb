{
 "cells": [
  {
   "cell_type": "code",
   "execution_count": 1,
   "metadata": {},
   "outputs": [],
   "source": [
    "from heapq import *\n",
    "def frequencySort(s):\n",
    "    freq = {}\n",
    "    for i in s:\n",
    "        if i not in freq:\n",
    "            freq[i] = 0\n",
    "        freq[i] += 1\n",
    "    minheap = []\n",
    "    for ch,fr in freq.items():\n",
    "        heappush(minheap, (-fr,ch))\n",
    "    result = \"\"\n",
    "    while minheap:\n",
    "        fr,ch = heappop(minheap)\n",
    "        for _ in range(-fr):\n",
    "            result += ch\n",
    "    return result"
   ]
  },
  {
   "cell_type": "code",
   "execution_count": 2,
   "metadata": {},
   "outputs": [
    {
     "data": {
      "text/plain": [
       "'eert'"
      ]
     },
     "execution_count": 2,
     "metadata": {},
     "output_type": "execute_result"
    }
   ],
   "source": [
    "frequencySort(\"erte\")"
   ]
  }
 ],
 "metadata": {
  "kernelspec": {
   "display_name": "Python 3",
   "language": "python",
   "name": "python3"
  },
  "language_info": {
   "codemirror_mode": {
    "name": "ipython",
    "version": 3
   },
   "file_extension": ".py",
   "mimetype": "text/x-python",
   "name": "python",
   "nbconvert_exporter": "python",
   "pygments_lexer": "ipython3",
   "version": "3.7.6"
  }
 },
 "nbformat": 4,
 "nbformat_minor": 4
}
