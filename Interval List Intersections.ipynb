{
 "cells": [
  {
   "cell_type": "code",
   "execution_count": 1,
   "metadata": {},
   "outputs": [],
   "source": [
    "def interval_intersection(arr1,arr2):\n",
    "    result = []\n",
    "    i,j = 0,0\n",
    "    while i < len(arr1) and j < len(arr2):\n",
    "        aoverlapb = arr1[i][0] >= arr2[j][0] and arr1[i][0] <= arr2[j][1]\n",
    "        boverlapa = arr2[j][0] >= arr1[i][0] and arr2[j][0] <= arr1[i][1]\n",
    "        if aoverlapb or boverlapa:\n",
    "            result.append([max(arr1[i][0],arr2[j][0]),min(arr1[i][1],arr2[j][1])])\n",
    "        if arr1[i][1] < arr2[j][1]:\n",
    "            i += 1\n",
    "        else:\n",
    "            j += 1\n",
    "    return result"
   ]
  },
  {
   "cell_type": "code",
   "execution_count": 2,
   "metadata": {},
   "outputs": [
    {
     "data": {
      "text/plain": [
       "[[2, 3], [5, 6], [7, 7]]"
      ]
     },
     "execution_count": 2,
     "metadata": {},
     "output_type": "execute_result"
    }
   ],
   "source": [
    "interval_intersection([[1, 3], [5, 6], [7, 9]],[[2, 3], [5, 7]])"
   ]
  }
 ],
 "metadata": {
  "kernelspec": {
   "display_name": "Python 3",
   "language": "python",
   "name": "python3"
  },
  "language_info": {
   "codemirror_mode": {
    "name": "ipython",
    "version": 3
   },
   "file_extension": ".py",
   "mimetype": "text/x-python",
   "name": "python",
   "nbconvert_exporter": "python",
   "pygments_lexer": "ipython3",
   "version": "3.7.6"
  }
 },
 "nbformat": 4,
 "nbformat_minor": 4
}
