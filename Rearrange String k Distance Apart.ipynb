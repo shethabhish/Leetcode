{
 "cells": [
  {
   "cell_type": "code",
   "execution_count": 1,
   "metadata": {},
   "outputs": [],
   "source": [
    "from collections import deque,Counter\n",
    "from heapq import *\n",
    "def rearrange_k_distance(s,k):\n",
    "    if k < 1:\n",
    "        return s\n",
    "    charfreq = Counter(s)\n",
    "    maxheap = []\n",
    "    for ch,freq in charfreq.items():\n",
    "        heappush(maxheap,(-freq,ch))\n",
    "    queue = deque()\n",
    "    result = ''\n",
    "    while maxheap:\n",
    "        freq,char = heappop(maxheap)\n",
    "        result += char\n",
    "        queue.append((freq+1,char))\n",
    "        if len(queue) == k:\n",
    "            freq,char = queue.popleft()\n",
    "            if -freq > 0:\n",
    "                heappush(maxheap,(freq,char))\n",
    "    return result if len(result) == len(s) else \"\""
   ]
  },
  {
   "cell_type": "code",
   "execution_count": 2,
   "metadata": {},
   "outputs": [
    {
     "data": {
      "text/plain": [
       "'gmrPagimnor'"
      ]
     },
     "execution_count": 2,
     "metadata": {},
     "output_type": "execute_result"
    }
   ],
   "source": [
    "rearrange_k_distance('Programming',3)"
   ]
  }
 ],
 "metadata": {
  "kernelspec": {
   "display_name": "Python 3",
   "language": "python",
   "name": "python3"
  },
  "language_info": {
   "codemirror_mode": {
    "name": "ipython",
    "version": 3
   },
   "file_extension": ".py",
   "mimetype": "text/x-python",
   "name": "python",
   "nbconvert_exporter": "python",
   "pygments_lexer": "ipython3",
   "version": "3.7.6"
  }
 },
 "nbformat": 4,
 "nbformat_minor": 4
}
