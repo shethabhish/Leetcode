{
 "cells": [
  {
   "cell_type": "code",
   "execution_count": 1,
   "metadata": {},
   "outputs": [],
   "source": [
    "def insert_interval(intervals,new):\n",
    "    merged = []\n",
    "    i = 0\n",
    "    while i < len(intervals) and intervals[i][1] < new[0]:\n",
    "        merged.append(intervals[i])\n",
    "        i += 1\n",
    "    while i < len(intervals) and intervals[i][0] <= new[1]:\n",
    "        new[0] = min(intervals[i][0],new[0])\n",
    "        new[1] = min(intervals[i][1],new[1]) \n",
    "        i += 1\n",
    "    merged.append(new)\n",
    "    while i < len(intervals):\n",
    "        merged.append(intervals[i])\n",
    "        i += 1\n",
    "    return merged"
   ]
  },
  {
   "cell_type": "code",
   "execution_count": 2,
   "metadata": {},
   "outputs": [
    {
     "data": {
      "text/plain": [
       "[[1, 3], [4, 7], [8, 12]]"
      ]
     },
     "execution_count": 2,
     "metadata": {},
     "output_type": "execute_result"
    }
   ],
   "source": [
    "insert_interval([[1,3], [5,7], [8,12]],[4,10])"
   ]
  }
 ],
 "metadata": {
  "kernelspec": {
   "display_name": "Python 3",
   "language": "python",
   "name": "python3"
  },
  "language_info": {
   "codemirror_mode": {
    "name": "ipython",
    "version": 3
   },
   "file_extension": ".py",
   "mimetype": "text/x-python",
   "name": "python",
   "nbconvert_exporter": "python",
   "pygments_lexer": "ipython3",
   "version": "3.7.6"
  }
 },
 "nbformat": 4,
 "nbformat_minor": 4
}
