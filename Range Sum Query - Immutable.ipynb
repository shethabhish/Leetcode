{
 "cells": [
  {
   "cell_type": "code",
   "execution_count": 1,
   "metadata": {},
   "outputs": [],
   "source": [
    "class NumArray:\n",
    "    def __init__(self, nums):\n",
    "        self.nums = nums\n",
    "    def sumRange(self, i, j):\n",
    "        return sum(self.nums[i:j+1])"
   ]
  },
  {
   "cell_type": "code",
   "execution_count": 2,
   "metadata": {},
   "outputs": [
    {
     "name": "stdout",
     "output_type": "stream",
     "text": [
      "1\n",
      "-1\n",
      "-3\n"
     ]
    }
   ],
   "source": [
    "numarray = NumArray([-2, 0, 3, -5, 2, -1])\n",
    "print(numarray.sumRange(0,2))\n",
    "print(numarray.sumRange(2,5))\n",
    "print(numarray.sumRange(0,5))"
   ]
  }
 ],
 "metadata": {
  "kernelspec": {
   "display_name": "Python 3",
   "language": "python",
   "name": "python3"
  },
  "language_info": {
   "codemirror_mode": {
    "name": "ipython",
    "version": 3
   },
   "file_extension": ".py",
   "mimetype": "text/x-python",
   "name": "python",
   "nbconvert_exporter": "python",
   "pygments_lexer": "ipython3",
   "version": "3.7.6"
  }
 },
 "nbformat": 4,
 "nbformat_minor": 4
}
