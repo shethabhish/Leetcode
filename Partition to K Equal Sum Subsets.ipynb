{
 "cells": [
  {
   "cell_type": "code",
   "execution_count": 1,
   "metadata": {},
   "outputs": [],
   "source": [
    "def countPartitions(nums,s):\n",
    "    n = len(nums)\n",
    "    dp = [[-1 for i in range(s+1)] for j in range(n)]\n",
    "    for i in range(n):\n",
    "        dp[i][0] = 1\n",
    "    for i in range(1,s+1):\n",
    "        dp[0][i] = 1 if nums[0] == i else 0\n",
    "    for i in range(1,n):\n",
    "        for j in range(1,s+1):\n",
    "            dp[i][j] = dp[i-1][j]\n",
    "            if j >= nums[i]:\n",
    "                dp[i][j] += dp[i-1][j-nums[i]]\n",
    "    return dp[-1][-1]"
   ]
  },
  {
   "cell_type": "code",
   "execution_count": 2,
   "metadata": {},
   "outputs": [
    {
     "data": {
      "text/plain": [
       "3"
      ]
     },
     "execution_count": 2,
     "metadata": {},
     "output_type": "execute_result"
    }
   ],
   "source": [
    "countPartitions([1,2,7,1,5],9)"
   ]
  }
 ],
 "metadata": {
  "kernelspec": {
   "display_name": "Python 3",
   "language": "python",
   "name": "python3"
  },
  "language_info": {
   "codemirror_mode": {
    "name": "ipython",
    "version": 3
   },
   "file_extension": ".py",
   "mimetype": "text/x-python",
   "name": "python",
   "nbconvert_exporter": "python",
   "pygments_lexer": "ipython3",
   "version": "3.7.6"
  }
 },
 "nbformat": 4,
 "nbformat_minor": 4
}
