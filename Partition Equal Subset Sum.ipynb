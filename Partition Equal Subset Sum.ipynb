{
 "cells": [
  {
   "cell_type": "code",
   "execution_count": 1,
   "metadata": {},
   "outputs": [],
   "source": [
    "def canPartition(nums):\n",
    "    s = sum(nums)\n",
    "    if s%2 != 0:\n",
    "        return False\n",
    "    s = s//2\n",
    "    n = len(nums)\n",
    "    dp = [[False for i in range(s+1)] for j in range(n)]\n",
    "    for i in range(n):\n",
    "        dp[i][0] = True\n",
    "    for i in range(1,s+1):\n",
    "        dp[0][i] = nums[0] == i\n",
    "    for i in range(1,n):\n",
    "        for j in range(1,s+1):\n",
    "            if dp[i-1][j]:\n",
    "                dp[i][j] = dp[i-1][j]\n",
    "            elif j >= nums[i]:\n",
    "                dp[i][j] = dp[i-1][j-nums[i]]\n",
    "    return dp[-1][-1]"
   ]
  },
  {
   "cell_type": "code",
   "execution_count": 2,
   "metadata": {},
   "outputs": [
    {
     "data": {
      "text/plain": [
       "True"
      ]
     },
     "execution_count": 2,
     "metadata": {},
     "output_type": "execute_result"
    }
   ],
   "source": [
    "canPartition([1,5,11,5])"
   ]
  }
 ],
 "metadata": {
  "kernelspec": {
   "display_name": "Python 3",
   "language": "python",
   "name": "python3"
  },
  "language_info": {
   "codemirror_mode": {
    "name": "ipython",
    "version": 3
   },
   "file_extension": ".py",
   "mimetype": "text/x-python",
   "name": "python",
   "nbconvert_exporter": "python",
   "pygments_lexer": "ipython3",
   "version": "3.7.6"
  }
 },
 "nbformat": 4,
 "nbformat_minor": 4
}
