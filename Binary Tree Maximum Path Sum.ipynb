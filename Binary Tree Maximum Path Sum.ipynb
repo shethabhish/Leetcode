{
 "cells": [
  {
   "cell_type": "code",
   "execution_count": 1,
   "metadata": {},
   "outputs": [],
   "source": [
    "class Tree:\n",
    "    def __init__(self,val):\n",
    "        self.val = val\n",
    "        self.left = None\n",
    "        self.right = None"
   ]
  },
  {
   "cell_type": "code",
   "execution_count": 2,
   "metadata": {},
   "outputs": [],
   "source": [
    "class Solution:\n",
    "    def maxPathSum(self,root):\n",
    "        self.maxsum = -float(\"inf\")\n",
    "        self.max_path(root)\n",
    "        return self.maxsum\n",
    "    def max_path(self,current):\n",
    "        if current is None:\n",
    "            return 0\n",
    "        maxsumleft = self.max_path(current.left)\n",
    "        maxsumright = self.max_path(current.right) \n",
    "        maxsumleft,maxsumright = max(maxsumleft,0),max(maxsumright,0)\n",
    "        currentmax = maxsumleft+maxsumright+current.val\n",
    "        self.maxsum = max(self.maxsum,currentmax)\n",
    "        return max(maxsumleft,maxsumright)+current.val"
   ]
  },
  {
   "cell_type": "code",
   "execution_count": 4,
   "metadata": {},
   "outputs": [],
   "source": [
    "root = Tree(1)\n",
    "root.left = Tree(2)\n",
    "root.right = Tree(3)"
   ]
  },
  {
   "cell_type": "code",
   "execution_count": 5,
   "metadata": {},
   "outputs": [
    {
     "data": {
      "text/plain": [
       "6"
      ]
     },
     "execution_count": 5,
     "metadata": {},
     "output_type": "execute_result"
    }
   ],
   "source": [
    "maxp = Solution()\n",
    "maxp.maxPathSum(root)"
   ]
  }
 ],
 "metadata": {
  "kernelspec": {
   "display_name": "Python 3",
   "language": "python",
   "name": "python3"
  },
  "language_info": {
   "codemirror_mode": {
    "name": "ipython",
    "version": 3
   },
   "file_extension": ".py",
   "mimetype": "text/x-python",
   "name": "python",
   "nbconvert_exporter": "python",
   "pygments_lexer": "ipython3",
   "version": "3.7.6"
  }
 },
 "nbformat": 4,
 "nbformat_minor": 4
}
