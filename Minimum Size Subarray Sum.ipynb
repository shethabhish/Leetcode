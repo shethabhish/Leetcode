{
 "cells": [
  {
   "cell_type": "code",
   "execution_count": 1,
   "metadata": {},
   "outputs": [],
   "source": [
    "import math\n",
    "def smallest_subarray(arr,S):\n",
    "    windowstart,windowsum,smallest = 0,0,math.inf\n",
    "    for windowend in range(len(arr)):\n",
    "        windowsum += arr[windowend]\n",
    "        while windowsum >= S:\n",
    "            smallest = min(smallest, windowend - windowstart + 1)\n",
    "            windowsum -= arr[windowstart]\n",
    "            windowstart += 1\n",
    "    if smallest == math.inf:\n",
    "        return 0\n",
    "    return smallest"
   ]
  },
  {
   "cell_type": "code",
   "execution_count": 2,
   "metadata": {},
   "outputs": [
    {
     "data": {
      "text/plain": [
       "2"
      ]
     },
     "execution_count": 2,
     "metadata": {},
     "output_type": "execute_result"
    }
   ],
   "source": [
    "smallest_subarray([2, 1, 5, 2, 3, 2],7)"
   ]
  }
 ],
 "metadata": {
  "kernelspec": {
   "display_name": "Python 3",
   "language": "python",
   "name": "python3"
  },
  "language_info": {
   "codemirror_mode": {
    "name": "ipython",
    "version": 3
   },
   "file_extension": ".py",
   "mimetype": "text/x-python",
   "name": "python",
   "nbconvert_exporter": "python",
   "pygments_lexer": "ipython3",
   "version": "3.7.6"
  }
 },
 "nbformat": 4,
 "nbformat_minor": 4
}
