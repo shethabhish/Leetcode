{
 "cells": [
  {
   "cell_type": "code",
   "execution_count": 1,
   "metadata": {},
   "outputs": [],
   "source": [
    "def target_sum(nums,s):\n",
    "    total = sum(nums)\n",
    "    if total < s or (s+total)%2 == 1:\n",
    "        return 0\n",
    "    return countSubsets(nums,(s+total)//2)"
   ]
  },
  {
   "cell_type": "code",
   "execution_count": 2,
   "metadata": {},
   "outputs": [],
   "source": [
    "def countSubsets(nums,s):\n",
    "    n = len(nums)\n",
    "    dp = [0 for i in range(s+1)]\n",
    "    dp[0] = 1\n",
    "    for i in range(1,s+1):\n",
    "        dp[i] = 1 if nums[0] == i else 0\n",
    "    for i in range(1,n):\n",
    "        for j in range(s,-1,-1):\n",
    "            if j >= nums[i]:\n",
    "                dp[j] += dp[j-nums[i]]\n",
    "    return dp[s]"
   ]
  },
  {
   "cell_type": "code",
   "execution_count": 3,
   "metadata": {},
   "outputs": [
    {
     "data": {
      "text/plain": [
       "3"
      ]
     },
     "execution_count": 3,
     "metadata": {},
     "output_type": "execute_result"
    }
   ],
   "source": [
    "target_sum([1,1,2,3],1)"
   ]
  }
 ],
 "metadata": {
  "kernelspec": {
   "display_name": "Python 3",
   "language": "python",
   "name": "python3"
  },
  "language_info": {
   "codemirror_mode": {
    "name": "ipython",
    "version": 3
   },
   "file_extension": ".py",
   "mimetype": "text/x-python",
   "name": "python",
   "nbconvert_exporter": "python",
   "pygments_lexer": "ipython3",
   "version": "3.7.6"
  }
 },
 "nbformat": 4,
 "nbformat_minor": 4
}
