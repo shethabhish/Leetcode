{
 "cells": [
  {
   "cell_type": "code",
   "execution_count": 1,
   "metadata": {},
   "outputs": [],
   "source": [
    "from heapq import *\n",
    "def kClosest(points, K):\n",
    "    result = []\n",
    "    for i in range(K):\n",
    "        heappush(result,(-(points[i][0]**2+points[i][1]**2),points[i]))\n",
    "    for i in range(K,len(points)):\n",
    "        if -result[0][0] > (points[i][0]**2+points[i][1]**2):\n",
    "            heappop(result)\n",
    "            heappush(result,(-(points[i][0]**2+points[i][1]**2),points[i]))\n",
    "    return [heappop(result)[1] for _ in range(K)]"
   ]
  },
  {
   "cell_type": "code",
   "execution_count": 2,
   "metadata": {},
   "outputs": [
    {
     "data": {
      "text/plain": [
       "[[-2, 4], [3, 3]]"
      ]
     },
     "execution_count": 2,
     "metadata": {},
     "output_type": "execute_result"
    }
   ],
   "source": [
    "kClosest([[3,3],[5,-1],[-2,4]], 2)"
   ]
  }
 ],
 "metadata": {
  "kernelspec": {
   "display_name": "Python 3",
   "language": "python",
   "name": "python3"
  },
  "language_info": {
   "codemirror_mode": {
    "name": "ipython",
    "version": 3
   },
   "file_extension": ".py",
   "mimetype": "text/x-python",
   "name": "python",
   "nbconvert_exporter": "python",
   "pygments_lexer": "ipython3",
   "version": "3.7.6"
  }
 },
 "nbformat": 4,
 "nbformat_minor": 4
}
