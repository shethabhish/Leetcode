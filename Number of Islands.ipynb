{
 "cells": [
  {
   "cell_type": "code",
   "execution_count": 1,
   "metadata": {},
   "outputs": [],
   "source": [
    "def num_islands(grid):\n",
    "    count = 0\n",
    "    for i in range(len(grid)):\n",
    "        for j in range(len(grid[i])):\n",
    "            if grid[i][j] == 1:\n",
    "                count += 1\n",
    "                bfs(grid,i,j)\n",
    "    return count"
   ]
  },
  {
   "cell_type": "code",
   "execution_count": 2,
   "metadata": {},
   "outputs": [],
   "source": [
    "def bfs(grid,i,j):\n",
    "    if i < 0 or j < 0 or i >= len(grid) or j >= len(grid[i]) or grid[i][j] == 0:\n",
    "        return \n",
    "    grid[i][j] = 0\n",
    "    bfs(grid,i+1,j)\n",
    "    bfs(grid,i-1,j)    \n",
    "    bfs(grid,i,j+1)    \n",
    "    bfs(grid,i,j-1)"
   ]
  },
  {
   "cell_type": "code",
   "execution_count": 3,
   "metadata": {},
   "outputs": [
    {
     "data": {
      "text/plain": [
       "3"
      ]
     },
     "execution_count": 3,
     "metadata": {},
     "output_type": "execute_result"
    }
   ],
   "source": [
    "num_islands([[1,1,0,0,0],\n",
    "            [1,1,0,0,0],\n",
    "            [0,0,1,0,0],\n",
    "            [0,0,0,1,1]])\n",
    "#Time Complexity O(M*N)\n",
    "#Space Complexity O(M*N)"
   ]
  }
 ],
 "metadata": {
  "kernelspec": {
   "display_name": "Python 3",
   "language": "python",
   "name": "python3"
  },
  "language_info": {
   "codemirror_mode": {
    "name": "ipython",
    "version": 3
   },
   "file_extension": ".py",
   "mimetype": "text/x-python",
   "name": "python",
   "nbconvert_exporter": "python",
   "pygments_lexer": "ipython3",
   "version": "3.7.6"
  }
 },
 "nbformat": 4,
 "nbformat_minor": 4
}
