{
 "cells": [
  {
   "cell_type": "code",
   "execution_count": 1,
   "metadata": {},
   "outputs": [],
   "source": [
    "def permutation_strig(s,pattern):\n",
    "    windowstart,pattern_freq,match = 0,{},0\n",
    "    for i in pattern:\n",
    "        if i not in pattern_freq:\n",
    "            pattern_freq[i] = 0\n",
    "        pattern_freq[i] += 1    \n",
    "    for windowend in range(len(s)):\n",
    "        right = s[windowend]\n",
    "        if right in pattern_freq:\n",
    "            pattern_freq[right] -= 1\n",
    "            if pattern_freq[right] == 0:\n",
    "                match += 1\n",
    "        if match == len(pattern_freq):\n",
    "            return True\n",
    "        if windowend >= len(pattern) - 1:\n",
    "            left = s[windowstart]\n",
    "            windowstart += 1\n",
    "            if left in pattern_freq:\n",
    "                if pattern_freq[left] == 0:\n",
    "                    match -= 1\n",
    "                pattern_freq[left] += 1\n",
    "    return False"
   ]
  },
  {
   "cell_type": "code",
   "execution_count": 2,
   "metadata": {},
   "outputs": [
    {
     "data": {
      "text/plain": [
       "True"
      ]
     },
     "execution_count": 2,
     "metadata": {},
     "output_type": "execute_result"
    }
   ],
   "source": [
    "permutation_strig(\"oidbcaf\",\"abc\")"
   ]
  }
 ],
 "metadata": {
  "kernelspec": {
   "display_name": "Python 3",
   "language": "python",
   "name": "python3"
  },
  "language_info": {
   "codemirror_mode": {
    "name": "ipython",
    "version": 3
   },
   "file_extension": ".py",
   "mimetype": "text/x-python",
   "name": "python",
   "nbconvert_exporter": "python",
   "pygments_lexer": "ipython3",
   "version": "3.7.6"
  }
 },
 "nbformat": 4,
 "nbformat_minor": 4
}
