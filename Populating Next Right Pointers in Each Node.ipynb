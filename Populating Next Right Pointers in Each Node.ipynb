{
 "cells": [
  {
   "cell_type": "code",
   "execution_count": 1,
   "metadata": {},
   "outputs": [],
   "source": [
    "class Tree:\n",
    "    def __init__(self,val):\n",
    "        self.val = val\n",
    "        self.left = None\n",
    "        self.right = None\n",
    "        self.next = None\n",
    "    def print_level_order(self):\n",
    "        nextLevelRoot = self\n",
    "        while nextLevelRoot:\n",
    "            current = nextLevelRoot\n",
    "            nextLevelRoot = None\n",
    "            while current:\n",
    "                print(str(current.val)+\" \",end =\" \")\n",
    "                if not nextLevelRoot:\n",
    "                    if current.left:\n",
    "                        nextLevelRoot = current.left\n",
    "                    elif current.right:\n",
    "                        nextLevelRoot = current.right\n",
    "                current = current.next\n",
    "            print()\n",
    "    def print_tree(self):\n",
    "        current = self\n",
    "        while current:\n",
    "            print(str(current.val)+\" \",end =\" \")\n",
    "            current = current.next"
   ]
  },
  {
   "cell_type": "code",
   "execution_count": 2,
   "metadata": {},
   "outputs": [],
   "source": [
    "from collections import deque\n",
    "def connect_level_order(root):\n",
    "    if root is None:\n",
    "        return \n",
    "    queue = deque()\n",
    "    queue.append(root)\n",
    "    while queue:\n",
    "        prev = None\n",
    "        levelsize = len(queue)\n",
    "        for _ in range(levelsize):\n",
    "            node = queue.popleft()\n",
    "            if prev:\n",
    "                prev.next = node\n",
    "            prev = node\n",
    "            if node.left:\n",
    "                queue.append(node.left)\n",
    "            if node.right:\n",
    "                queue.append(node.right)"
   ]
  },
  {
   "cell_type": "code",
   "execution_count": 3,
   "metadata": {},
   "outputs": [],
   "source": [
    "root = Tree(12)\n",
    "root.left = Tree(7)\n",
    "root.right = Tree(1)\n",
    "root.left.left = Tree(9)\n",
    "root.right.left = Tree(10)\n",
    "root.right.right = Tree(5)"
   ]
  },
  {
   "cell_type": "code",
   "execution_count": 4,
   "metadata": {},
   "outputs": [
    {
     "name": "stdout",
     "output_type": "stream",
     "text": [
      "12  \n",
      "7  1  \n",
      "9  10  5  \n"
     ]
    }
   ],
   "source": [
    "connect_level_order(root)\n",
    "root.print_level_order()"
   ]
  }
 ],
 "metadata": {
  "kernelspec": {
   "display_name": "Python 3",
   "language": "python",
   "name": "python3"
  },
  "language_info": {
   "codemirror_mode": {
    "name": "ipython",
    "version": 3
   },
   "file_extension": ".py",
   "mimetype": "text/x-python",
   "name": "python",
   "nbconvert_exporter": "python",
   "pygments_lexer": "ipython3",
   "version": "3.7.6"
  }
 },
 "nbformat": 4,
 "nbformat_minor": 4
}
