{
 "cells": [
  {
   "cell_type": "code",
   "execution_count": 1,
   "metadata": {},
   "outputs": [],
   "source": [
    "from heapq import *\n",
    "class Median:\n",
    "    def __init__(self):\n",
    "        self.minheap = []\n",
    "        self.maxheap = []\n",
    "    def addNum(self,num):\n",
    "        if not self.maxheap or num <= -self.maxheap[0]:\n",
    "            heappush(self.maxheap,-num)\n",
    "        else:\n",
    "            heappush(self.minheap,num)\n",
    "        if len(self.maxheap) > len(self.minheap)+1:\n",
    "            heappush(self.minheap,-heappop(self.maxheap))\n",
    "        elif len(self.minheap) > len(self.maxheap):\n",
    "            heappush(self.maxheap,-heappop(self.minheap))\n",
    "    def findMedian(self):\n",
    "        if len(self.maxheap) == len(self.minheap):\n",
    "            return -self.maxheap[0]/2.0 + self.minheap[0]/2.0\n",
    "        return -self.maxheap[0]/1.0"
   ]
  },
  {
   "cell_type": "code",
   "execution_count": 2,
   "metadata": {},
   "outputs": [
    {
     "name": "stdout",
     "output_type": "stream",
     "text": [
      "1.5\n",
      "2.0\n"
     ]
    }
   ],
   "source": [
    "median = Median()\n",
    "median.addNum(1)\n",
    "median.addNum(2)\n",
    "print(median.findMedian())\n",
    "median.addNum(3)\n",
    "print(median.findMedian())"
   ]
  }
 ],
 "metadata": {
  "kernelspec": {
   "display_name": "Python 3",
   "language": "python",
   "name": "python3"
  },
  "language_info": {
   "codemirror_mode": {
    "name": "ipython",
    "version": 3
   },
   "file_extension": ".py",
   "mimetype": "text/x-python",
   "name": "python",
   "nbconvert_exporter": "python",
   "pygments_lexer": "ipython3",
   "version": "3.7.6"
  }
 },
 "nbformat": 4,
 "nbformat_minor": 4
}
